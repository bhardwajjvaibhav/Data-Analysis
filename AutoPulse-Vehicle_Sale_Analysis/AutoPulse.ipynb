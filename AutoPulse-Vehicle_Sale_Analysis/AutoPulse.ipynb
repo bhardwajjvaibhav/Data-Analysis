{
 "cells": [
  {
   "cell_type": "markdown",
   "id": "6f8be05c-f32f-4148-8326-a90424897256",
   "metadata": {},
   "source": [
    "## AUTO PULSE- NAVIGATING SALES TREND"
   ]
  },
  {
   "cell_type": "code",
   "execution_count": 1,
   "id": "52620c74-deaa-4cac-951e-bced6a3cdca4",
   "metadata": {},
   "outputs": [],
   "source": [
    "import pandas as pd\n",
    "import numpy as np\n",
    "import matplotlib.pyplot as plt\n",
    "import seaborn as sns"
   ]
  },
  {
   "cell_type": "markdown",
   "id": "b3fec1f9-4522-4309-b71d-79419e19a50d",
   "metadata": {},
   "source": [
    "### DATA CLEANING"
   ]
  },
  {
   "cell_type": "markdown",
   "id": "253be046-80e9-4e34-aeca-a8102361b0bf",
   "metadata": {},
   "source": [
    "##### IMPORTING CSV"
   ]
  },
  {
   "cell_type": "code",
   "execution_count": 74,
   "id": "0f4af1e1-e435-4119-a77d-087ac582c156",
   "metadata": {},
   "outputs": [],
   "source": [
    "df= pd.read_csv(\"cr.csv\",encoding='unicode_escape')"
   ]
  },
  {
   "cell_type": "code",
   "execution_count": 75,
   "id": "e6ebec2f-6095-4fd6-864c-f8a4a98095bf",
   "metadata": {},
   "outputs": [
    {
     "data": {
      "text/html": [
       "<div>\n",
       "<style scoped>\n",
       "    .dataframe tbody tr th:only-of-type {\n",
       "        vertical-align: middle;\n",
       "    }\n",
       "\n",
       "    .dataframe tbody tr th {\n",
       "        vertical-align: top;\n",
       "    }\n",
       "\n",
       "    .dataframe thead th {\n",
       "        text-align: right;\n",
       "    }\n",
       "</style>\n",
       "<table border=\"1\" class=\"dataframe\">\n",
       "  <thead>\n",
       "    <tr style=\"text-align: right;\">\n",
       "      <th></th>\n",
       "      <th>year</th>\n",
       "      <th>make</th>\n",
       "      <th>model</th>\n",
       "      <th>body</th>\n",
       "      <th>transmission</th>\n",
       "      <th>state</th>\n",
       "      <th>odometer</th>\n",
       "      <th>color</th>\n",
       "      <th>interior</th>\n",
       "      <th>seller</th>\n",
       "      <th>mmr</th>\n",
       "      <th>sellingprice</th>\n",
       "      <th>selldate</th>\n",
       "    </tr>\n",
       "  </thead>\n",
       "  <tbody>\n",
       "    <tr>\n",
       "      <th>0</th>\n",
       "      <td>2014</td>\n",
       "      <td>BMW</td>\n",
       "      <td>6 Series</td>\n",
       "      <td>Convertible</td>\n",
       "      <td>automatic</td>\n",
       "      <td>ca</td>\n",
       "      <td>8819</td>\n",
       "      <td>black</td>\n",
       "      <td>black</td>\n",
       "      <td>the hertz corporation</td>\n",
       "      <td>68000</td>\n",
       "      <td>67200</td>\n",
       "      <td>2014</td>\n",
       "    </tr>\n",
       "    <tr>\n",
       "      <th>1</th>\n",
       "      <td>2014</td>\n",
       "      <td>Kia</td>\n",
       "      <td>Sorento</td>\n",
       "      <td>SUV</td>\n",
       "      <td>automatic</td>\n",
       "      <td>ca</td>\n",
       "      <td>9393</td>\n",
       "      <td>white</td>\n",
       "      <td>beige</td>\n",
       "      <td>kia motors america  inc</td>\n",
       "      <td>20800</td>\n",
       "      <td>30000</td>\n",
       "      <td>2014</td>\n",
       "    </tr>\n",
       "    <tr>\n",
       "      <th>2</th>\n",
       "      <td>2014</td>\n",
       "      <td>BMW</td>\n",
       "      <td>3 Series</td>\n",
       "      <td>Sedan</td>\n",
       "      <td>automatic</td>\n",
       "      <td>ca</td>\n",
       "      <td>1331</td>\n",
       "      <td>gray</td>\n",
       "      <td>black</td>\n",
       "      <td>financial services remarketing (lease)</td>\n",
       "      <td>31900</td>\n",
       "      <td>30000</td>\n",
       "      <td>2015</td>\n",
       "    </tr>\n",
       "    <tr>\n",
       "      <th>3</th>\n",
       "      <td>2015</td>\n",
       "      <td>Volvo</td>\n",
       "      <td>S60</td>\n",
       "      <td>Sedan</td>\n",
       "      <td>automatic</td>\n",
       "      <td>ca</td>\n",
       "      <td>14282</td>\n",
       "      <td>white</td>\n",
       "      <td>black</td>\n",
       "      <td>volvo na rep/world omni</td>\n",
       "      <td>27500</td>\n",
       "      <td>27750</td>\n",
       "      <td>2015</td>\n",
       "    </tr>\n",
       "    <tr>\n",
       "      <th>4</th>\n",
       "      <td>2014</td>\n",
       "      <td>BMW</td>\n",
       "      <td>6 Series Gran Coupe</td>\n",
       "      <td>Sedan</td>\n",
       "      <td>automatic</td>\n",
       "      <td>ca</td>\n",
       "      <td>2641</td>\n",
       "      <td>gray</td>\n",
       "      <td>black</td>\n",
       "      <td>financial services remarketing (lease)</td>\n",
       "      <td>66000</td>\n",
       "      <td>67000</td>\n",
       "      <td>2014</td>\n",
       "    </tr>\n",
       "  </tbody>\n",
       "</table>\n",
       "</div>"
      ],
      "text/plain": [
       "   year   make                model         body transmission state  odometer  \\\n",
       "0  2014    BMW             6 Series  Convertible    automatic    ca      8819   \n",
       "1  2014    Kia              Sorento          SUV    automatic    ca      9393   \n",
       "2  2014    BMW             3 Series        Sedan    automatic    ca      1331   \n",
       "3  2015  Volvo                  S60        Sedan    automatic    ca     14282   \n",
       "4  2014    BMW  6 Series Gran Coupe        Sedan    automatic    ca      2641   \n",
       "\n",
       "   color interior                                  seller    mmr  \\\n",
       "0  black    black                   the hertz corporation  68000   \n",
       "1  white    beige                 kia motors america  inc  20800   \n",
       "2   gray    black  financial services remarketing (lease)  31900   \n",
       "3  white    black                 volvo na rep/world omni  27500   \n",
       "4   gray    black  financial services remarketing (lease)  66000   \n",
       "\n",
       "   sellingprice  selldate  \n",
       "0         67200      2014  \n",
       "1         30000      2014  \n",
       "2         30000      2015  \n",
       "3         27750      2015  \n",
       "4         67000      2014  "
      ]
     },
     "execution_count": 75,
     "metadata": {},
     "output_type": "execute_result"
    }
   ],
   "source": [
    "df.head()"
   ]
  },
  {
   "cell_type": "markdown",
   "id": "32920aa6-7f29-4050-a673-c92c0dcfb813",
   "metadata": {},
   "source": [
    "##### DROPPING NULL VALUES"
   ]
  },
  {
   "cell_type": "code",
   "execution_count": 77,
   "id": "02654ad7-5076-443d-8eca-1c540516b7ad",
   "metadata": {},
   "outputs": [
    {
     "data": {
      "text/html": [
       "<div>\n",
       "<style scoped>\n",
       "    .dataframe tbody tr th:only-of-type {\n",
       "        vertical-align: middle;\n",
       "    }\n",
       "\n",
       "    .dataframe tbody tr th {\n",
       "        vertical-align: top;\n",
       "    }\n",
       "\n",
       "    .dataframe thead th {\n",
       "        text-align: right;\n",
       "    }\n",
       "</style>\n",
       "<table border=\"1\" class=\"dataframe\">\n",
       "  <thead>\n",
       "    <tr style=\"text-align: right;\">\n",
       "      <th></th>\n",
       "      <th>year</th>\n",
       "      <th>make</th>\n",
       "      <th>odometer</th>\n",
       "      <th>sellingprice</th>\n",
       "      <th>selldate</th>\n",
       "    </tr>\n",
       "  </thead>\n",
       "  <tbody>\n",
       "    <tr>\n",
       "      <th>0</th>\n",
       "      <td>2014</td>\n",
       "      <td>BMW</td>\n",
       "      <td>8819</td>\n",
       "      <td>67200</td>\n",
       "      <td>2014</td>\n",
       "    </tr>\n",
       "    <tr>\n",
       "      <th>1</th>\n",
       "      <td>2014</td>\n",
       "      <td>Kia</td>\n",
       "      <td>9393</td>\n",
       "      <td>30000</td>\n",
       "      <td>2014</td>\n",
       "    </tr>\n",
       "    <tr>\n",
       "      <th>2</th>\n",
       "      <td>2014</td>\n",
       "      <td>BMW</td>\n",
       "      <td>1331</td>\n",
       "      <td>30000</td>\n",
       "      <td>2015</td>\n",
       "    </tr>\n",
       "    <tr>\n",
       "      <th>3</th>\n",
       "      <td>2015</td>\n",
       "      <td>Volvo</td>\n",
       "      <td>14282</td>\n",
       "      <td>27750</td>\n",
       "      <td>2015</td>\n",
       "    </tr>\n",
       "    <tr>\n",
       "      <th>4</th>\n",
       "      <td>2014</td>\n",
       "      <td>BMW</td>\n",
       "      <td>2641</td>\n",
       "      <td>67000</td>\n",
       "      <td>2014</td>\n",
       "    </tr>\n",
       "    <tr>\n",
       "      <th>...</th>\n",
       "      <td>...</td>\n",
       "      <td>...</td>\n",
       "      <td>...</td>\n",
       "      <td>...</td>\n",
       "      <td>...</td>\n",
       "    </tr>\n",
       "    <tr>\n",
       "      <th>472320</th>\n",
       "      <td>2011</td>\n",
       "      <td>BMW</td>\n",
       "      <td>66403</td>\n",
       "      <td>22800</td>\n",
       "      <td>2015</td>\n",
       "    </tr>\n",
       "    <tr>\n",
       "      <th>472321</th>\n",
       "      <td>2012</td>\n",
       "      <td>Ram</td>\n",
       "      <td>54393</td>\n",
       "      <td>30800</td>\n",
       "      <td>2015</td>\n",
       "    </tr>\n",
       "    <tr>\n",
       "      <th>472322</th>\n",
       "      <td>2012</td>\n",
       "      <td>BMW</td>\n",
       "      <td>50561</td>\n",
       "      <td>34000</td>\n",
       "      <td>2015</td>\n",
       "    </tr>\n",
       "    <tr>\n",
       "      <th>472323</th>\n",
       "      <td>2015</td>\n",
       "      <td>Nissan</td>\n",
       "      <td>16658</td>\n",
       "      <td>11100</td>\n",
       "      <td>2015</td>\n",
       "    </tr>\n",
       "    <tr>\n",
       "      <th>472324</th>\n",
       "      <td>2014</td>\n",
       "      <td>Ford</td>\n",
       "      <td>15008</td>\n",
       "      <td>26700</td>\n",
       "      <td>2015</td>\n",
       "    </tr>\n",
       "  </tbody>\n",
       "</table>\n",
       "<p>472325 rows × 5 columns</p>\n",
       "</div>"
      ],
      "text/plain": [
       "        year    make  odometer  sellingprice  selldate\n",
       "0       2014     BMW      8819         67200      2014\n",
       "1       2014     Kia      9393         30000      2014\n",
       "2       2014     BMW      1331         30000      2015\n",
       "3       2015   Volvo     14282         27750      2015\n",
       "4       2014     BMW      2641         67000      2014\n",
       "...      ...     ...       ...           ...       ...\n",
       "472320  2011     BMW     66403         22800      2015\n",
       "472321  2012     Ram     54393         30800      2015\n",
       "472322  2012     BMW     50561         34000      2015\n",
       "472323  2015  Nissan     16658         11100      2015\n",
       "472324  2014    Ford     15008         26700      2015\n",
       "\n",
       "[472325 rows x 5 columns]"
      ]
     },
     "execution_count": 77,
     "metadata": {},
     "output_type": "execute_result"
    }
   ],
   "source": [
    "cdrop=['model','body','transmission','state','color','interior','seller','mmr']\n",
    "df1=df.drop(columns=cdrop)\n",
    "df1"
   ]
  },
  {
   "cell_type": "code",
   "execution_count": 80,
   "id": "6257ebc7-1af9-45ad-9e63-091e11f40cbb",
   "metadata": {},
   "outputs": [],
   "source": [
    "df1=df1.drop(columns='odometer')"
   ]
  },
  {
   "cell_type": "code",
   "execution_count": 81,
   "id": "41eb606c-885e-4878-8f09-2340ed2b3cc8",
   "metadata": {},
   "outputs": [
    {
     "data": {
      "text/html": [
       "<div>\n",
       "<style scoped>\n",
       "    .dataframe tbody tr th:only-of-type {\n",
       "        vertical-align: middle;\n",
       "    }\n",
       "\n",
       "    .dataframe tbody tr th {\n",
       "        vertical-align: top;\n",
       "    }\n",
       "\n",
       "    .dataframe thead th {\n",
       "        text-align: right;\n",
       "    }\n",
       "</style>\n",
       "<table border=\"1\" class=\"dataframe\">\n",
       "  <thead>\n",
       "    <tr style=\"text-align: right;\">\n",
       "      <th></th>\n",
       "      <th>year</th>\n",
       "      <th>make</th>\n",
       "      <th>sellingprice</th>\n",
       "    </tr>\n",
       "  </thead>\n",
       "  <tbody>\n",
       "    <tr>\n",
       "      <th>0</th>\n",
       "      <td>2014</td>\n",
       "      <td>BMW</td>\n",
       "      <td>67200</td>\n",
       "    </tr>\n",
       "    <tr>\n",
       "      <th>1</th>\n",
       "      <td>2014</td>\n",
       "      <td>Kia</td>\n",
       "      <td>30000</td>\n",
       "    </tr>\n",
       "    <tr>\n",
       "      <th>2</th>\n",
       "      <td>2014</td>\n",
       "      <td>BMW</td>\n",
       "      <td>30000</td>\n",
       "    </tr>\n",
       "    <tr>\n",
       "      <th>3</th>\n",
       "      <td>2015</td>\n",
       "      <td>Volvo</td>\n",
       "      <td>27750</td>\n",
       "    </tr>\n",
       "    <tr>\n",
       "      <th>4</th>\n",
       "      <td>2014</td>\n",
       "      <td>BMW</td>\n",
       "      <td>67000</td>\n",
       "    </tr>\n",
       "    <tr>\n",
       "      <th>...</th>\n",
       "      <td>...</td>\n",
       "      <td>...</td>\n",
       "      <td>...</td>\n",
       "    </tr>\n",
       "    <tr>\n",
       "      <th>472320</th>\n",
       "      <td>2011</td>\n",
       "      <td>BMW</td>\n",
       "      <td>22800</td>\n",
       "    </tr>\n",
       "    <tr>\n",
       "      <th>472321</th>\n",
       "      <td>2012</td>\n",
       "      <td>Ram</td>\n",
       "      <td>30800</td>\n",
       "    </tr>\n",
       "    <tr>\n",
       "      <th>472322</th>\n",
       "      <td>2012</td>\n",
       "      <td>BMW</td>\n",
       "      <td>34000</td>\n",
       "    </tr>\n",
       "    <tr>\n",
       "      <th>472323</th>\n",
       "      <td>2015</td>\n",
       "      <td>Nissan</td>\n",
       "      <td>11100</td>\n",
       "    </tr>\n",
       "    <tr>\n",
       "      <th>472324</th>\n",
       "      <td>2014</td>\n",
       "      <td>Ford</td>\n",
       "      <td>26700</td>\n",
       "    </tr>\n",
       "  </tbody>\n",
       "</table>\n",
       "<p>472325 rows × 3 columns</p>\n",
       "</div>"
      ],
      "text/plain": [
       "        year    make  sellingprice\n",
       "0       2014     BMW         67200\n",
       "1       2014     Kia         30000\n",
       "2       2014     BMW         30000\n",
       "3       2015   Volvo         27750\n",
       "4       2014     BMW         67000\n",
       "...      ...     ...           ...\n",
       "472320  2011     BMW         22800\n",
       "472321  2012     Ram         30800\n",
       "472322  2012     BMW         34000\n",
       "472323  2015  Nissan         11100\n",
       "472324  2014    Ford         26700\n",
       "\n",
       "[472325 rows x 3 columns]"
      ]
     },
     "execution_count": 81,
     "metadata": {},
     "output_type": "execute_result"
    }
   ],
   "source": [
    "df1"
   ]
  },
  {
   "cell_type": "code",
   "execution_count": 82,
   "id": "c93b89e2-efc0-4bdb-a54f-a2b1fbf504a5",
   "metadata": {},
   "outputs": [
    {
     "data": {
      "text/plain": [
       "make\n",
       "Acura             13104.78\n",
       "Aston Martin      55500.00\n",
       "Audi              20010.17\n",
       "BMW               21292.67\n",
       "Bentley           72713.33\n",
       "Buick             10588.18\n",
       "Cadillac          14733.20\n",
       "Chevrolet         11866.21\n",
       "Chrysler          10627.09\n",
       "Daewoo              450.00\n",
       "Dodge             10963.79\n",
       "FIAT               9927.42\n",
       "Ferrari          128852.94\n",
       "Fisker            46461.11\n",
       "Ford              14829.81\n",
       "GMC               16769.47\n",
       "Geo                 576.56\n",
       "HUMMER            15404.61\n",
       "Honda             10942.93\n",
       "Hyundai           11062.02\n",
       "Infiniti          20562.80\n",
       "Isuzu              1774.16\n",
       "Jaguar            19429.85\n",
       "Jeep              14755.98\n",
       "Kia               11767.49\n",
       "Lamborghini      111500.00\n",
       "Land Rover        33225.29\n",
       "Lexus             20284.20\n",
       "Lincoln           17547.19\n",
       "Lotus             40800.00\n",
       "MINI              12389.43\n",
       "Maserati          43729.82\n",
       "Mazda             10228.57\n",
       "Mercedes-Benz     21314.87\n",
       "Mercury            3996.94\n",
       "Mitsubishi         8035.46\n",
       "Nissan            11745.44\n",
       "Oldsmobile          953.77\n",
       "Plymouth          11845.31\n",
       "Pontiac            3814.86\n",
       "Porsche           38932.11\n",
       "Ram               25257.46\n",
       "Rolls-Royce      153456.25\n",
       "Saab               3616.35\n",
       "Saturn             3436.38\n",
       "Scion              9736.21\n",
       "Subaru            15583.42\n",
       "Suzuki             4009.77\n",
       "Tesla             67054.35\n",
       "Toyota            12422.46\n",
       "Volkswagen         9374.79\n",
       "Volvo             10927.68\n",
       "smart              6301.60\n",
       "Name: sellingprice, dtype: float64"
      ]
     },
     "execution_count": 82,
     "metadata": {},
     "output_type": "execute_result"
    }
   ],
   "source": [
    "df3=df1['sellingprice'].groupby(df2['make']).mean().round(2)\n",
    "df3"
   ]
  },
  {
   "cell_type": "code",
   "execution_count": 84,
   "id": "eec70f71-161b-45e8-bac7-02ef4d0bf558",
   "metadata": {},
   "outputs": [],
   "source": [
    "df1=df1.drop(columns='sellingprice')"
   ]
  },
  {
   "cell_type": "code",
   "execution_count": 85,
   "id": "0852a665-f657-4439-ab7e-99d87e9edf5f",
   "metadata": {},
   "outputs": [
    {
     "data": {
      "text/html": [
       "<div>\n",
       "<style scoped>\n",
       "    .dataframe tbody tr th:only-of-type {\n",
       "        vertical-align: middle;\n",
       "    }\n",
       "\n",
       "    .dataframe tbody tr th {\n",
       "        vertical-align: top;\n",
       "    }\n",
       "\n",
       "    .dataframe thead th {\n",
       "        text-align: right;\n",
       "    }\n",
       "</style>\n",
       "<table border=\"1\" class=\"dataframe\">\n",
       "  <thead>\n",
       "    <tr style=\"text-align: right;\">\n",
       "      <th></th>\n",
       "      <th>make</th>\n",
       "      <th>sellingprice</th>\n",
       "      <th>year</th>\n",
       "    </tr>\n",
       "  </thead>\n",
       "  <tbody>\n",
       "    <tr>\n",
       "      <th>0</th>\n",
       "      <td>Acura</td>\n",
       "      <td>13104.78</td>\n",
       "      <td>2014</td>\n",
       "    </tr>\n",
       "    <tr>\n",
       "      <th>1</th>\n",
       "      <td>Acura</td>\n",
       "      <td>13104.78</td>\n",
       "      <td>2014</td>\n",
       "    </tr>\n",
       "    <tr>\n",
       "      <th>2</th>\n",
       "      <td>Acura</td>\n",
       "      <td>13104.78</td>\n",
       "      <td>2014</td>\n",
       "    </tr>\n",
       "    <tr>\n",
       "      <th>3</th>\n",
       "      <td>Acura</td>\n",
       "      <td>13104.78</td>\n",
       "      <td>2012</td>\n",
       "    </tr>\n",
       "    <tr>\n",
       "      <th>4</th>\n",
       "      <td>Acura</td>\n",
       "      <td>13104.78</td>\n",
       "      <td>2012</td>\n",
       "    </tr>\n",
       "    <tr>\n",
       "      <th>...</th>\n",
       "      <td>...</td>\n",
       "      <td>...</td>\n",
       "      <td>...</td>\n",
       "    </tr>\n",
       "    <tr>\n",
       "      <th>472320</th>\n",
       "      <td>smart</td>\n",
       "      <td>6301.60</td>\n",
       "      <td>2008</td>\n",
       "    </tr>\n",
       "    <tr>\n",
       "      <th>472321</th>\n",
       "      <td>smart</td>\n",
       "      <td>6301.60</td>\n",
       "      <td>2013</td>\n",
       "    </tr>\n",
       "    <tr>\n",
       "      <th>472322</th>\n",
       "      <td>smart</td>\n",
       "      <td>6301.60</td>\n",
       "      <td>2013</td>\n",
       "    </tr>\n",
       "    <tr>\n",
       "      <th>472323</th>\n",
       "      <td>smart</td>\n",
       "      <td>6301.60</td>\n",
       "      <td>2012</td>\n",
       "    </tr>\n",
       "    <tr>\n",
       "      <th>472324</th>\n",
       "      <td>smart</td>\n",
       "      <td>6301.60</td>\n",
       "      <td>2008</td>\n",
       "    </tr>\n",
       "  </tbody>\n",
       "</table>\n",
       "<p>472325 rows × 3 columns</p>\n",
       "</div>"
      ],
      "text/plain": [
       "         make  sellingprice  year\n",
       "0       Acura      13104.78  2014\n",
       "1       Acura      13104.78  2014\n",
       "2       Acura      13104.78  2014\n",
       "3       Acura      13104.78  2012\n",
       "4       Acura      13104.78  2012\n",
       "...       ...           ...   ...\n",
       "472320  smart       6301.60  2008\n",
       "472321  smart       6301.60  2013\n",
       "472322  smart       6301.60  2013\n",
       "472323  smart       6301.60  2012\n",
       "472324  smart       6301.60  2008\n",
       "\n",
       "[472325 rows x 3 columns]"
      ]
     },
     "execution_count": 85,
     "metadata": {},
     "output_type": "execute_result"
    }
   ],
   "source": [
    "df5=pd.merge(df3,df1,on='make')\n",
    "df5"
   ]
  },
  {
   "cell_type": "code",
   "execution_count": 87,
   "id": "4b9f1b96-fa7d-4789-af10-86147eefae51",
   "metadata": {},
   "outputs": [
    {
     "name": "stdout",
     "output_type": "stream",
     "text": [
      "         make  sellingprice  year\n",
      "0       Acura     -0.133593  2014\n",
      "1       Acura     -0.133593  2014\n",
      "2       Acura     -0.133593  2014\n",
      "3       Acura     -0.133593  2012\n",
      "4       Acura     -0.133593  2012\n",
      "...       ...           ...   ...\n",
      "472320  smart     -1.684953  2008\n",
      "472321  smart     -1.684953  2013\n",
      "472322  smart     -1.684953  2013\n",
      "472323  smart     -1.684953  2012\n",
      "472324  smart     -1.684953  2008\n",
      "\n",
      "[472325 rows x 3 columns]\n"
     ]
    }
   ],
   "source": [
    "from sklearn.preprocessing import StandardScaler\n",
    "\n",
    "# Assuming df is your DataFrame with columns 'odometer' and 'sellingprice'\n",
    "columns_to_scale = ['sellingprice']\n",
    "\n",
    "# Create a StandardScaler object\n",
    "scaler = StandardScaler()\n",
    "\n",
    "# Fit the scaler to the data and transform the specified columns\n",
    "df5_scaled = df5.copy()  # Create a copy of the original DataFrame\n",
    "df5_scaled[columns_to_scale] = scaler.fit_transform(df5_scaled[columns_to_scale])\n",
    "\n",
    "# Now df_scaled contains the scaled values of 'odometer' and 'sellingprice' columns\n",
    "\n",
    "# Print the scaled DataFrame\n",
    "print(df5_scaled)"
   ]
  },
  {
   "cell_type": "code",
   "execution_count": 100,
   "id": "4bc97c8f-036b-4935-b409-9afa5579a15b",
   "metadata": {},
   "outputs": [
    {
     "data": {
      "text/html": [
       "<div>\n",
       "<style scoped>\n",
       "    .dataframe tbody tr th:only-of-type {\n",
       "        vertical-align: middle;\n",
       "    }\n",
       "\n",
       "    .dataframe tbody tr th {\n",
       "        vertical-align: top;\n",
       "    }\n",
       "\n",
       "    .dataframe thead th {\n",
       "        text-align: right;\n",
       "    }\n",
       "</style>\n",
       "<table border=\"1\" class=\"dataframe\">\n",
       "  <thead>\n",
       "    <tr style=\"text-align: right;\">\n",
       "      <th></th>\n",
       "      <th>make</th>\n",
       "      <th>sellingprice</th>\n",
       "      <th>year</th>\n",
       "    </tr>\n",
       "  </thead>\n",
       "  <tbody>\n",
       "    <tr>\n",
       "      <th>350453</th>\n",
       "      <td>Mercedes-Benz</td>\n",
       "      <td>1.738590</td>\n",
       "      <td>1990</td>\n",
       "    </tr>\n",
       "    <tr>\n",
       "      <th>80375</th>\n",
       "      <td>Chevrolet</td>\n",
       "      <td>-0.416030</td>\n",
       "      <td>1990</td>\n",
       "    </tr>\n",
       "    <tr>\n",
       "      <th>425011</th>\n",
       "      <td>Toyota</td>\n",
       "      <td>-0.289186</td>\n",
       "      <td>1990</td>\n",
       "    </tr>\n",
       "    <tr>\n",
       "      <th>226972</th>\n",
       "      <td>Honda</td>\n",
       "      <td>-0.626570</td>\n",
       "      <td>1990</td>\n",
       "    </tr>\n",
       "    <tr>\n",
       "      <th>338830</th>\n",
       "      <td>Mazda</td>\n",
       "      <td>-0.789468</td>\n",
       "      <td>1990</td>\n",
       "    </tr>\n",
       "    <tr>\n",
       "      <th>...</th>\n",
       "      <td>...</td>\n",
       "      <td>...</td>\n",
       "      <td>...</td>\n",
       "    </tr>\n",
       "    <tr>\n",
       "      <th>68876</th>\n",
       "      <td>Chevrolet</td>\n",
       "      <td>-0.416030</td>\n",
       "      <td>2015</td>\n",
       "    </tr>\n",
       "    <tr>\n",
       "      <th>186586</th>\n",
       "      <td>Ford</td>\n",
       "      <td>0.259773</td>\n",
       "      <td>2015</td>\n",
       "    </tr>\n",
       "    <tr>\n",
       "      <th>68877</th>\n",
       "      <td>Chevrolet</td>\n",
       "      <td>-0.416030</td>\n",
       "      <td>2015</td>\n",
       "    </tr>\n",
       "    <tr>\n",
       "      <th>23596</th>\n",
       "      <td>BMW</td>\n",
       "      <td>1.733528</td>\n",
       "      <td>2015</td>\n",
       "    </tr>\n",
       "    <tr>\n",
       "      <th>80080</th>\n",
       "      <td>Chevrolet</td>\n",
       "      <td>-0.416030</td>\n",
       "      <td>2015</td>\n",
       "    </tr>\n",
       "  </tbody>\n",
       "</table>\n",
       "<p>472325 rows × 3 columns</p>\n",
       "</div>"
      ],
      "text/plain": [
       "                 make  sellingprice  year\n",
       "350453  Mercedes-Benz      1.738590  1990\n",
       "80375       Chevrolet     -0.416030  1990\n",
       "425011         Toyota     -0.289186  1990\n",
       "226972          Honda     -0.626570  1990\n",
       "338830          Mazda     -0.789468  1990\n",
       "...               ...           ...   ...\n",
       "68876       Chevrolet     -0.416030  2015\n",
       "186586           Ford      0.259773  2015\n",
       "68877       Chevrolet     -0.416030  2015\n",
       "23596             BMW      1.733528  2015\n",
       "80080       Chevrolet     -0.416030  2015\n",
       "\n",
       "[472325 rows x 3 columns]"
      ]
     },
     "execution_count": 100,
     "metadata": {},
     "output_type": "execute_result"
    }
   ],
   "source": [
    "df8=df5_scaled.sort_values(by='year')\n",
    "df8"
   ]
  },
  {
   "cell_type": "code",
   "execution_count": 112,
   "id": "369f548b-baea-4596-8304-b2422ad2de15",
   "metadata": {},
   "outputs": [
    {
     "data": {
      "text/plain": [
       "make\n",
       "Acura            -0.133593\n",
       "Aston Martin      9.533978\n",
       "Audi              1.441074\n",
       "BMW               1.733528\n",
       "Bentley          13.459211\n",
       "Buick            -0.707465\n",
       "Cadillac          0.237743\n",
       "Chevrolet        -0.416030\n",
       "Chrysler         -0.698592\n",
       "Daewoo           -3.019319\n",
       "Dodge            -0.621813\n",
       "FIAT             -0.858141\n",
       "Ferrari          26.260977\n",
       "Fisker            7.472800\n",
       "Ford              0.259773\n",
       "GMC               0.702082\n",
       "Geo              -2.990459\n",
       "HUMMER            0.390847\n",
       "Honda            -0.626570\n",
       "Hyundai          -0.599413\n",
       "Infiniti          1.567092\n",
       "Isuzu            -2.717365\n",
       "Jaguar            1.308741\n",
       "Jeep              0.242937\n",
       "Kia              -0.438542\n",
       "Lamborghini      22.303909\n",
       "Land Rover        4.454577\n",
       "Lexus             1.503562\n",
       "Lincoln           0.879429\n",
       "Lotus             6.181872\n",
       "MINI             -0.296718\n",
       "Maserati          6.849972\n",
       "Mazda            -0.789468\n",
       "Mercedes-Benz     1.738590\n",
       "Mercury          -2.210495\n",
       "Mitsubishi       -1.289573\n",
       "Nissan           -0.443570\n",
       "Oldsmobile       -2.904442\n",
       "Plymouth         -0.420796\n",
       "Pontiac          -2.252015\n",
       "Porsche           5.755928\n",
       "Ram               2.637637\n",
       "Rolls-Royce      31.871380\n",
       "Saab             -2.297282\n",
       "Saturn           -2.338322\n",
       "Scion            -0.901743\n",
       "Subaru            0.431622\n",
       "Suzuki           -2.207569\n",
       "Tesla            12.168768\n",
       "Toyota           -0.289186\n",
       "Volkswagen       -0.984160\n",
       "Volvo            -0.630047\n",
       "smart            -1.684953\n",
       "Name: sellingprice, dtype: float64"
      ]
     },
     "execution_count": 112,
     "metadata": {},
     "output_type": "execute_result"
    }
   ],
   "source": [
    "df9=df8['sellingprice'].groupby(df8['make']).mean()\n",
    "df9\n"
   ]
  },
  {
   "cell_type": "code",
   "execution_count": 114,
   "id": "b0e6417f-e7bd-4b80-a243-ee53023b9b98",
   "metadata": {},
   "outputs": [
    {
     "data": {
      "text/plain": [
       "year\n",
       "1990   -0.001536\n",
       "1991    0.127615\n",
       "1992   -0.208219\n",
       "1993   -0.143757\n",
       "1994   -0.224188\n",
       "1995   -0.064186\n",
       "1996   -0.175687\n",
       "1997   -0.209052\n",
       "1998   -0.165217\n",
       "1999   -0.145098\n",
       "2000   -0.105786\n",
       "2001   -0.114009\n",
       "2002   -0.069626\n",
       "2003   -0.074914\n",
       "2004   -0.063132\n",
       "2005   -0.135794\n",
       "2006   -0.049213\n",
       "2007   -0.088333\n",
       "2008   -0.041191\n",
       "2009   -0.125415\n",
       "2010   -0.086892\n",
       "2011    0.201340\n",
       "2012    0.084705\n",
       "2013    0.016748\n",
       "2014   -0.023015\n",
       "2015   -0.062155\n",
       "Name: sellingprice, dtype: float64"
      ]
     },
     "execution_count": 114,
     "metadata": {},
     "output_type": "execute_result"
    }
   ],
   "source": [
    "df4=df8['sellingprice'].groupby(df8['year']).mean()\n",
    "df4"
   ]
  },
  {
   "cell_type": "code",
   "execution_count": 104,
   "id": "38b56dec-3c21-4185-9c19-c5f83b0de56a",
   "metadata": {},
   "outputs": [
    {
     "data": {
      "text/html": [
       "<div>\n",
       "<style scoped>\n",
       "    .dataframe tbody tr th:only-of-type {\n",
       "        vertical-align: middle;\n",
       "    }\n",
       "\n",
       "    .dataframe tbody tr th {\n",
       "        vertical-align: top;\n",
       "    }\n",
       "\n",
       "    .dataframe thead th {\n",
       "        text-align: right;\n",
       "    }\n",
       "</style>\n",
       "<table border=\"1\" class=\"dataframe\">\n",
       "  <thead>\n",
       "    <tr style=\"text-align: right;\">\n",
       "      <th></th>\n",
       "      <th>make</th>\n",
       "      <th>year</th>\n",
       "      <th>sellingprice</th>\n",
       "    </tr>\n",
       "  </thead>\n",
       "  <tbody>\n",
       "    <tr>\n",
       "      <th>464333</th>\n",
       "      <td>Chevrolet</td>\n",
       "      <td>2015</td>\n",
       "      <td>-0.416030</td>\n",
       "    </tr>\n",
       "    <tr>\n",
       "      <th>464334</th>\n",
       "      <td>Chevrolet</td>\n",
       "      <td>2015</td>\n",
       "      <td>-0.416030</td>\n",
       "    </tr>\n",
       "    <tr>\n",
       "      <th>464335</th>\n",
       "      <td>Chevrolet</td>\n",
       "      <td>2015</td>\n",
       "      <td>-0.416030</td>\n",
       "    </tr>\n",
       "    <tr>\n",
       "      <th>464336</th>\n",
       "      <td>Chevrolet</td>\n",
       "      <td>2015</td>\n",
       "      <td>-0.416030</td>\n",
       "    </tr>\n",
       "    <tr>\n",
       "      <th>464337</th>\n",
       "      <td>Chevrolet</td>\n",
       "      <td>2015</td>\n",
       "      <td>-0.416030</td>\n",
       "    </tr>\n",
       "    <tr>\n",
       "      <th>...</th>\n",
       "      <td>...</td>\n",
       "      <td>...</td>\n",
       "      <td>...</td>\n",
       "    </tr>\n",
       "    <tr>\n",
       "      <th>472320</th>\n",
       "      <td>Chevrolet</td>\n",
       "      <td>2015</td>\n",
       "      <td>-0.416030</td>\n",
       "    </tr>\n",
       "    <tr>\n",
       "      <th>472321</th>\n",
       "      <td>Ford</td>\n",
       "      <td>2015</td>\n",
       "      <td>0.259773</td>\n",
       "    </tr>\n",
       "    <tr>\n",
       "      <th>472322</th>\n",
       "      <td>Chevrolet</td>\n",
       "      <td>2015</td>\n",
       "      <td>-0.416030</td>\n",
       "    </tr>\n",
       "    <tr>\n",
       "      <th>472323</th>\n",
       "      <td>BMW</td>\n",
       "      <td>2015</td>\n",
       "      <td>1.733528</td>\n",
       "    </tr>\n",
       "    <tr>\n",
       "      <th>472324</th>\n",
       "      <td>Chevrolet</td>\n",
       "      <td>2015</td>\n",
       "      <td>-0.416030</td>\n",
       "    </tr>\n",
       "  </tbody>\n",
       "</table>\n",
       "<p>7992 rows × 3 columns</p>\n",
       "</div>"
      ],
      "text/plain": [
       "             make  year  sellingprice\n",
       "464333  Chevrolet  2015     -0.416030\n",
       "464334  Chevrolet  2015     -0.416030\n",
       "464335  Chevrolet  2015     -0.416030\n",
       "464336  Chevrolet  2015     -0.416030\n",
       "464337  Chevrolet  2015     -0.416030\n",
       "...           ...   ...           ...\n",
       "472320  Chevrolet  2015     -0.416030\n",
       "472321       Ford  2015      0.259773\n",
       "472322  Chevrolet  2015     -0.416030\n",
       "472323        BMW  2015      1.733528\n",
       "472324  Chevrolet  2015     -0.416030\n",
       "\n",
       "[7992 rows x 3 columns]"
      ]
     },
     "execution_count": 104,
     "metadata": {},
     "output_type": "execute_result"
    }
   ],
   "source": [
    "df7 = df7.loc[(df7['year'] >2014) & (df7['year'] <=2015)]\n",
    "df7\n",
    "df=df7['sellingprice'].groupby(df7['make'],df7['year']).mean()"
   ]
  },
  {
   "cell_type": "code",
   "execution_count": 153,
   "id": "be899c79-ddda-4605-9361-5865891816ea",
   "metadata": {},
   "outputs": [
    {
     "name": "stdout",
     "output_type": "stream",
     "text": [
      "ROWS WITH EMPTY CELL DROPPED\n"
     ]
    },
    {
     "data": {
      "text/plain": [
       "year            0\n",
       "make            0\n",
       "model           0\n",
       "trim            0\n",
       "body            0\n",
       "transmission    0\n",
       "vin             0\n",
       "state           0\n",
       "condition       0\n",
       "odometer        0\n",
       "color           0\n",
       "interior        0\n",
       "seller          0\n",
       "mmr             0\n",
       "sellingprice    0\n",
       "saledate        0\n",
       "dtype: int64"
      ]
     },
     "execution_count": 153,
     "metadata": {},
     "output_type": "execute_result"
    }
   ],
   "source": [
    "df=df.dropna()\n",
    "print(\"ROWS WITH EMPTY CELL DROPPED\")\n",
    "df.isnull().sum()"
   ]
  },
  {
   "cell_type": "code",
   "execution_count": 152,
   "id": "7687f60c-19ee-4b11-8b61-21add0a0f7e8",
   "metadata": {},
   "outputs": [
    {
     "data": {
      "text/plain": [
       "year                0\n",
       "make            10301\n",
       "model           10399\n",
       "trim            10651\n",
       "body            13195\n",
       "transmission    65352\n",
       "vin                 4\n",
       "state               0\n",
       "condition       11820\n",
       "odometer           94\n",
       "color             749\n",
       "interior          749\n",
       "seller              0\n",
       "mmr                38\n",
       "sellingprice       12\n",
       "saledate           12\n",
       "dtype: int64"
      ]
     },
     "execution_count": 152,
     "metadata": {},
     "output_type": "execute_result"
    }
   ],
   "source": [
    "df.isnull().sum()"
   ]
  },
  {
   "cell_type": "code",
   "execution_count": 154,
   "id": "e65b1465-2341-4e92-bdd7-503eebfcc382",
   "metadata": {},
   "outputs": [
    {
     "name": "stdout",
     "output_type": "stream",
     "text": [
      "<class 'pandas.core.frame.DataFrame'>\n",
      "Index: 472325 entries, 0 to 558836\n",
      "Data columns (total 16 columns):\n",
      " #   Column        Non-Null Count   Dtype  \n",
      "---  ------        --------------   -----  \n",
      " 0   year          472325 non-null  int64  \n",
      " 1   make          472325 non-null  object \n",
      " 2   model         472325 non-null  object \n",
      " 3   trim          472325 non-null  object \n",
      " 4   body          472325 non-null  object \n",
      " 5   transmission  472325 non-null  object \n",
      " 6   vin           472325 non-null  object \n",
      " 7   state         472325 non-null  object \n",
      " 8   condition     472325 non-null  float64\n",
      " 9   odometer      472325 non-null  float64\n",
      " 10  color         472325 non-null  object \n",
      " 11  interior      472325 non-null  object \n",
      " 12  seller        472325 non-null  object \n",
      " 13  mmr           472325 non-null  float64\n",
      " 14  sellingprice  472325 non-null  float64\n",
      " 15  saledate      472325 non-null  object \n",
      "dtypes: float64(4), int64(1), object(11)\n",
      "memory usage: 61.3+ MB\n"
     ]
    }
   ],
   "source": [
    "df.info()"
   ]
  },
  {
   "cell_type": "code",
   "execution_count": 155,
   "id": "18c51641-2b6f-4f87-8d7f-3b7bc90c9212",
   "metadata": {},
   "outputs": [
    {
     "data": {
      "text/plain": [
       "0    Tue Dec 16 2014 12:30:00 GMT-0800 (PST)\n",
       "1    Tue Dec 16 2014 12:30:00 GMT-0800 (PST)\n",
       "2    Thu Jan 15 2015 04:30:00 GMT-0800 (PST)\n",
       "3    Thu Jan 29 2015 04:30:00 GMT-0800 (PST)\n",
       "4    Thu Dec 18 2014 12:30:00 GMT-0800 (PST)\n",
       "Name: saledate, dtype: object"
      ]
     },
     "execution_count": 155,
     "metadata": {},
     "output_type": "execute_result"
    }
   ],
   "source": [
    "df[\"saledate\"].head()"
   ]
  },
  {
   "cell_type": "code",
   "execution_count": 14,
   "id": "0acb670b-2b55-41b9-aaf6-db755e554044",
   "metadata": {},
   "outputs": [
    {
     "name": "stdout",
     "output_type": "stream",
     "text": [
      "saledate converted to string type\n"
     ]
    },
    {
     "data": {
      "text/plain": [
       "0    Tue Dec 16 2014 12:30:00 GMT-0800 (PST)\n",
       "1    Tue Dec 16 2014 12:30:00 GMT-0800 (PST)\n",
       "2    Thu Jan 15 2015 04:30:00 GMT-0800 (PST)\n",
       "3    Thu Jan 29 2015 04:30:00 GMT-0800 (PST)\n",
       "4    Thu Dec 18 2014 12:30:00 GMT-0800 (PST)\n",
       "Name: saledate, dtype: object"
      ]
     },
     "execution_count": 14,
     "metadata": {},
     "output_type": "execute_result"
    }
   ],
   "source": [
    "df.loc[:, 'saledate'] = df['saledate'].astype(str)\n",
    "print(\"saledate converted to string type\")\n",
    "df[\"saledate\"].head()"
   ]
  },
  {
   "cell_type": "code",
   "execution_count": 15,
   "id": "217d8fee-f56b-4665-ba6a-6d78b2ff525c",
   "metadata": {},
   "outputs": [],
   "source": [
    "df['saledate'] = df['saledate'].apply(lambda x: ' '.join(x.split(' ')[1:]))"
   ]
  },
  {
   "cell_type": "code",
   "execution_count": 16,
   "id": "f44cbb90-83a2-456d-8b07-94f6d1ae30bf",
   "metadata": {},
   "outputs": [],
   "source": [
    "df.loc[:, 'date'] = df['saledate'].apply(lambda x: ' '.join(x.split(' ')[0:3]))\n",
    "df.loc[:, 'time'] = df['saledate'].apply(lambda x: ' '.join(x.split(' ')[3:]))"
   ]
  },
  {
   "cell_type": "code",
   "execution_count": 17,
   "id": "743e82db-1df4-4eef-88f0-65700113e300",
   "metadata": {},
   "outputs": [],
   "source": [
    "df.drop(columns=['saledate'], inplace=True)\n"
   ]
  },
  {
   "cell_type": "code",
   "execution_count": 18,
   "id": "2902f274-fe11-4ec3-a866-69e1ff007738",
   "metadata": {},
   "outputs": [],
   "source": [
    "df.drop(columns=['time'], inplace=True)"
   ]
  },
  {
   "cell_type": "code",
   "execution_count": 19,
   "id": "1cc8e24f-4f50-4310-9fae-0c0ac43c31f7",
   "metadata": {},
   "outputs": [],
   "source": [
    "df['year'] = df['date'].str[-4:] "
   ]
  },
  {
   "cell_type": "code",
   "execution_count": 20,
   "id": "0f199b9a-9156-445c-b81c-ddae6aec6bdc",
   "metadata": {},
   "outputs": [
    {
     "data": {
      "text/html": [
       "<div>\n",
       "<style scoped>\n",
       "    .dataframe tbody tr th:only-of-type {\n",
       "        vertical-align: middle;\n",
       "    }\n",
       "\n",
       "    .dataframe tbody tr th {\n",
       "        vertical-align: top;\n",
       "    }\n",
       "\n",
       "    .dataframe thead th {\n",
       "        text-align: right;\n",
       "    }\n",
       "</style>\n",
       "<table border=\"1\" class=\"dataframe\">\n",
       "  <thead>\n",
       "    <tr style=\"text-align: right;\">\n",
       "      <th></th>\n",
       "      <th>year</th>\n",
       "      <th>make</th>\n",
       "      <th>model</th>\n",
       "      <th>trim</th>\n",
       "      <th>body</th>\n",
       "      <th>transmission</th>\n",
       "      <th>vin</th>\n",
       "      <th>state</th>\n",
       "      <th>condition</th>\n",
       "      <th>odometer</th>\n",
       "      <th>color</th>\n",
       "      <th>interior</th>\n",
       "      <th>seller</th>\n",
       "      <th>mmr</th>\n",
       "      <th>sellingprice</th>\n",
       "      <th>date</th>\n",
       "    </tr>\n",
       "  </thead>\n",
       "  <tbody>\n",
       "    <tr>\n",
       "      <th>0</th>\n",
       "      <td>2014</td>\n",
       "      <td>Kia</td>\n",
       "      <td>Sorento</td>\n",
       "      <td>LX</td>\n",
       "      <td>SUV</td>\n",
       "      <td>automatic</td>\n",
       "      <td>5xyktca69fg566472</td>\n",
       "      <td>ca</td>\n",
       "      <td>5.0</td>\n",
       "      <td>16639.0</td>\n",
       "      <td>white</td>\n",
       "      <td>black</td>\n",
       "      <td>kia motors america  inc</td>\n",
       "      <td>20500.0</td>\n",
       "      <td>21500.0</td>\n",
       "      <td>Dec 16 2014</td>\n",
       "    </tr>\n",
       "    <tr>\n",
       "      <th>1</th>\n",
       "      <td>2014</td>\n",
       "      <td>Kia</td>\n",
       "      <td>Sorento</td>\n",
       "      <td>LX</td>\n",
       "      <td>SUV</td>\n",
       "      <td>automatic</td>\n",
       "      <td>5xyktca69fg561319</td>\n",
       "      <td>ca</td>\n",
       "      <td>5.0</td>\n",
       "      <td>9393.0</td>\n",
       "      <td>white</td>\n",
       "      <td>beige</td>\n",
       "      <td>kia motors america  inc</td>\n",
       "      <td>20800.0</td>\n",
       "      <td>21500.0</td>\n",
       "      <td>Dec 16 2014</td>\n",
       "    </tr>\n",
       "    <tr>\n",
       "      <th>2</th>\n",
       "      <td>2015</td>\n",
       "      <td>BMW</td>\n",
       "      <td>3 Series</td>\n",
       "      <td>328i SULEV</td>\n",
       "      <td>Sedan</td>\n",
       "      <td>automatic</td>\n",
       "      <td>wba3c1c51ek116351</td>\n",
       "      <td>ca</td>\n",
       "      <td>45.0</td>\n",
       "      <td>1331.0</td>\n",
       "      <td>gray</td>\n",
       "      <td>black</td>\n",
       "      <td>financial services remarketing (lease)</td>\n",
       "      <td>31900.0</td>\n",
       "      <td>30000.0</td>\n",
       "      <td>Jan 15 2015</td>\n",
       "    </tr>\n",
       "    <tr>\n",
       "      <th>3</th>\n",
       "      <td>2015</td>\n",
       "      <td>Volvo</td>\n",
       "      <td>S60</td>\n",
       "      <td>T5</td>\n",
       "      <td>Sedan</td>\n",
       "      <td>automatic</td>\n",
       "      <td>yv1612tb4f1310987</td>\n",
       "      <td>ca</td>\n",
       "      <td>41.0</td>\n",
       "      <td>14282.0</td>\n",
       "      <td>white</td>\n",
       "      <td>black</td>\n",
       "      <td>volvo na rep/world omni</td>\n",
       "      <td>27500.0</td>\n",
       "      <td>27750.0</td>\n",
       "      <td>Jan 29 2015</td>\n",
       "    </tr>\n",
       "    <tr>\n",
       "      <th>4</th>\n",
       "      <td>2014</td>\n",
       "      <td>BMW</td>\n",
       "      <td>6 Series Gran Coupe</td>\n",
       "      <td>650i</td>\n",
       "      <td>Sedan</td>\n",
       "      <td>automatic</td>\n",
       "      <td>wba6b2c57ed129731</td>\n",
       "      <td>ca</td>\n",
       "      <td>43.0</td>\n",
       "      <td>2641.0</td>\n",
       "      <td>gray</td>\n",
       "      <td>black</td>\n",
       "      <td>financial services remarketing (lease)</td>\n",
       "      <td>66000.0</td>\n",
       "      <td>67000.0</td>\n",
       "      <td>Dec 18 2014</td>\n",
       "    </tr>\n",
       "  </tbody>\n",
       "</table>\n",
       "</div>"
      ],
      "text/plain": [
       "   year   make                model        trim   body transmission  \\\n",
       "0  2014    Kia              Sorento          LX    SUV    automatic   \n",
       "1  2014    Kia              Sorento          LX    SUV    automatic   \n",
       "2  2015    BMW             3 Series  328i SULEV  Sedan    automatic   \n",
       "3  2015  Volvo                  S60          T5  Sedan    automatic   \n",
       "4  2014    BMW  6 Series Gran Coupe        650i  Sedan    automatic   \n",
       "\n",
       "                 vin state  condition  odometer  color interior  \\\n",
       "0  5xyktca69fg566472    ca        5.0   16639.0  white    black   \n",
       "1  5xyktca69fg561319    ca        5.0    9393.0  white    beige   \n",
       "2  wba3c1c51ek116351    ca       45.0    1331.0   gray    black   \n",
       "3  yv1612tb4f1310987    ca       41.0   14282.0  white    black   \n",
       "4  wba6b2c57ed129731    ca       43.0    2641.0   gray    black   \n",
       "\n",
       "                                   seller      mmr  sellingprice         date  \n",
       "0                 kia motors america  inc  20500.0       21500.0  Dec 16 2014  \n",
       "1                 kia motors america  inc  20800.0       21500.0  Dec 16 2014  \n",
       "2  financial services remarketing (lease)  31900.0       30000.0  Jan 15 2015  \n",
       "3                 volvo na rep/world omni  27500.0       27750.0  Jan 29 2015  \n",
       "4  financial services remarketing (lease)  66000.0       67000.0  Dec 18 2014  "
      ]
     },
     "execution_count": 20,
     "metadata": {},
     "output_type": "execute_result"
    }
   ],
   "source": [
    "df.head()"
   ]
  },
  {
   "cell_type": "code",
   "execution_count": 14,
   "id": "16ab6531-d231-4b44-82ed-ddb269ef03c4",
   "metadata": {},
   "outputs": [],
   "source": [
    "duplicate_rows = df[df.duplicated(keep=False)]"
   ]
  },
  {
   "cell_type": "markdown",
   "id": "dd5f3916-351a-4003-b768-69cb7763056e",
   "metadata": {},
   "source": [
    "#### EXPLORING TRENDS IN THE MARKET"
   ]
  },
  {
   "cell_type": "markdown",
   "id": "589dc2b1-3d31-4643-89e5-30b485ee2e0c",
   "metadata": {},
   "source": [
    "####  Which vehicle brands/models are the top sellers overall?"
   ]
  },
  {
   "cell_type": "code",
   "execution_count": 41,
   "id": "be6a2d45-5af6-44ea-b127-20841d216f81",
   "metadata": {},
   "outputs": [
    {
     "data": {
      "image/png": "[encoded data removed]",
      "text/plain": [
       "<Figure size 640x480 with 1 Axes>"
      ]
     },
     "metadata": {},
     "output_type": "display_data"
    }
   ],
   "source": [
    "sns.countplot(df,x='transmission')\n",
    "plt.show()"
   ]
  },
  {
   "cell_type": "markdown",
   "id": "3f3a142f-2fa9-4fc4-9015-ea43f04fdf61",
   "metadata": {},
   "source": [
    "#### What is the trend in vehicle sales over the years covered by the dataset?"
   ]
  },
  {
   "cell_type": "code",
   "execution_count": 35,
   "id": "0469b92c-be13-4410-9a27-78a5fe7d7635",
   "metadata": {},
   "outputs": [
    {
     "data": {
      "text/plain": [
       "0    2015\n",
       "Name: selldate, dtype: int64"
      ]
     },
     "execution_count": 35,
     "metadata": {},
     "output_type": "execute_result"
    }
   ],
   "source": [
    "df['selldate'].mode()"
   ]
  },
  {
   "cell_type": "code",
   "execution_count": 40,
   "id": "3859be6a-cdb9-480c-a38c-fd7941a8f6c3",
   "metadata": {},
   "outputs": [
    {
     "name": "stdout",
     "output_type": "stream",
     "text": [
      "selldate\n",
      "2014    12715.167849\n",
      "2015    13773.022203\n",
      "Name: sellingprice, dtype: float64\n"
     ]
    }
   ],
   "source": [
    "avg = df.groupby('selldate')['sellingprice'].mean()\n",
    "print(avg)"
   ]
  },
  {
   "cell_type": "code",
   "execution_count": 45,
   "id": "a6813c4b-b8db-4bcb-8154-a7535f9677c9",
   "metadata": {},
   "outputs": [
    {
     "data": {
      "image/png": "[encoded data removed]",
      "text/plain": [
       "<Figure size 640x480 with 1 Axes>"
      ]
     },
     "metadata": {},
     "output_type": "display_data"
    }
   ],
   "source": [
    "sns.countplot(df,x='selldate')\n",
    "plt.show()"
   ]
  },
  {
   "cell_type": "markdown",
   "id": "a212b651-0d3b-4fa3-b098-8a05b7220914",
   "metadata": {},
   "source": [
    "##### 2015 recorded highest sales count as well as it has highest avg selling price as compared to 2014"
   ]
  },
  {
   "cell_type": "markdown",
   "id": "c071becd-32c6-4b2d-b51a-e31a30b5a027",
   "metadata": {},
   "source": []
  },
  {
   "cell_type": "markdown",
   "id": "653329f2-a738-49dc-9cb0-331bf2eb2276",
   "metadata": {},
   "source": [
    "#### What are the most popular types of vehicles (sedans, SUVs, trucks, etc.) in terms of sales volume?"
   ]
  },
  {
   "cell_type": "code",
   "execution_count": 133,
   "id": "b63d3efa-1763-4ff4-9187-0ee2c09ecdc3",
   "metadata": {},
   "outputs": [
    {
     "data": {
      "text/plain": [
       "count     472325\n",
       "unique        85\n",
       "top        Sedan\n",
       "freq      174647\n",
       "Name: body, dtype: object"
      ]
     },
     "execution_count": 133,
     "metadata": {},
     "output_type": "execute_result"
    }
   ],
   "source": [
    "df['body'].describe()"
   ]
  },
  {
   "cell_type": "code",
   "execution_count": 134,
   "id": "6f7d5867-0408-4029-a312-13b316088fd8",
   "metadata": {},
   "outputs": [
    {
     "data": {
      "image/png": "[encoded data removed]",
      "text/plain": [
       "<Figure size 3000x600 with 1 Axes>"
      ]
     },
     "metadata": {},
     "output_type": "display_data"
    }
   ],
   "source": [
    "plt.figure(figsize=(30,6))\n",
    "sns.histplot(df,x='body',bins=30)\n",
    "plt.xticks(rotation=90,ha='right')\n",
    "plt.show()"
   ]
  },
  {
   "cell_type": "code",
   "execution_count": 74,
   "id": "7d98e8e3-65fe-42f5-ac40-69b02f34fd61",
   "metadata": {},
   "outputs": [
    {
     "data": {
      "image/png": "[encoded data removed]",
      "text/plain": [
       "<Figure size 3000x600 with 1 Axes>"
      ]
     },
     "metadata": {},
     "output_type": "display_data"
    }
   ],
   "source": [
    "plt.figure(figsize=(30,6))\n",
    "sns.histplot(x='make',data=df,bins=30)\n",
    "\n",
    "plt.show()"
   ]
  },
  {
   "cell_type": "code",
   "execution_count": 139,
   "id": "003b4b76-175b-4097-990a-c65577d82ff4",
   "metadata": {},
   "outputs": [
    {
     "data": {
      "text/html": [
       "<div>\n",
       "<style scoped>\n",
       "    .dataframe tbody tr th:only-of-type {\n",
       "        vertical-align: middle;\n",
       "    }\n",
       "\n",
       "    .dataframe tbody tr th {\n",
       "        vertical-align: top;\n",
       "    }\n",
       "\n",
       "    .dataframe thead th {\n",
       "        text-align: right;\n",
       "    }\n",
       "</style>\n",
       "<table border=\"1\" class=\"dataframe\">\n",
       "  <thead>\n",
       "    <tr style=\"text-align: right;\">\n",
       "      <th></th>\n",
       "      <th>body</th>\n",
       "      <th>make</th>\n",
       "    </tr>\n",
       "  </thead>\n",
       "  <tbody>\n",
       "    <tr>\n",
       "      <th>0</th>\n",
       "      <td>Convertible</td>\n",
       "      <td>BMW</td>\n",
       "    </tr>\n",
       "    <tr>\n",
       "      <th>1</th>\n",
       "      <td>SUV</td>\n",
       "      <td>Kia</td>\n",
       "    </tr>\n",
       "    <tr>\n",
       "      <th>2</th>\n",
       "      <td>Sedan</td>\n",
       "      <td>BMW</td>\n",
       "    </tr>\n",
       "    <tr>\n",
       "      <th>3</th>\n",
       "      <td>Sedan</td>\n",
       "      <td>Volvo</td>\n",
       "    </tr>\n",
       "    <tr>\n",
       "      <th>4</th>\n",
       "      <td>Sedan</td>\n",
       "      <td>BMW</td>\n",
       "    </tr>\n",
       "    <tr>\n",
       "      <th>5</th>\n",
       "      <td>Sedan</td>\n",
       "      <td>Nissan</td>\n",
       "    </tr>\n",
       "    <tr>\n",
       "      <th>6</th>\n",
       "      <td>Sedan</td>\n",
       "      <td>BMW</td>\n",
       "    </tr>\n",
       "    <tr>\n",
       "      <th>7</th>\n",
       "      <td>Sedan</td>\n",
       "      <td>Chevrolet</td>\n",
       "    </tr>\n",
       "    <tr>\n",
       "      <th>8</th>\n",
       "      <td>Sedan</td>\n",
       "      <td>Audi</td>\n",
       "    </tr>\n",
       "    <tr>\n",
       "      <th>9</th>\n",
       "      <td>Convertible</td>\n",
       "      <td>Chevrolet</td>\n",
       "    </tr>\n",
       "  </tbody>\n",
       "</table>\n",
       "</div>"
      ],
      "text/plain": [
       "          body       make\n",
       "0  Convertible        BMW\n",
       "1          SUV        Kia\n",
       "2        Sedan        BMW\n",
       "3        Sedan      Volvo\n",
       "4        Sedan        BMW\n",
       "5        Sedan     Nissan\n",
       "6        Sedan        BMW\n",
       "7        Sedan  Chevrolet\n",
       "8        Sedan       Audi\n",
       "9  Convertible  Chevrolet"
      ]
     },
     "execution_count": 139,
     "metadata": {},
     "output_type": "execute_result"
    }
   ],
   "source": [
    "uk=['body','make']\n",
    "sk=df[uk]\n",
    "sk.head(10)"
   ]
  },
  {
   "cell_type": "markdown",
   "id": "9201291a-f6c0-42b6-acba-2cd61f457922",
   "metadata": {},
   "source": [
    "### Sales performance in different regions/countries"
   ]
  },
  {
   "cell_type": "code",
   "execution_count": 60,
   "id": "27161aa5-cb33-4549-a288-ddff0602d6f1",
   "metadata": {},
   "outputs": [
    {
     "data": {
      "text/plain": [
       "count     472325\n",
       "unique        34\n",
       "top           fl\n",
       "freq       75243\n",
       "Name: state, dtype: object"
      ]
     },
     "execution_count": 60,
     "metadata": {},
     "output_type": "execute_result"
    }
   ],
   "source": [
    "df['state'].describe()"
   ]
  },
  {
   "cell_type": "markdown",
   "id": "2bf93eb4-c29c-4d88-9ce4-3f8d5a5a4274",
   "metadata": {},
   "source": [
    "##### Out of 34 state fl is the state with highest sales"
   ]
  },
  {
   "cell_type": "code",
   "execution_count": 56,
   "id": "fa237da8-73e6-4cd0-bcdd-a39616b0a5ef",
   "metadata": {},
   "outputs": [
    {
     "data": {
      "image/png": "[encoded data removed]",
      "text/plain": [
       "<Figure size 640x480 with 1 Axes>"
      ]
     },
     "metadata": {},
     "output_type": "display_data"
    }
   ],
   "source": [
    "sns.histplot(df,x='state',bins=80)\n",
    "plt.xticks(rotation=90,ha='right')\n",
    "plt.show()"
   ]
  },
  {
   "cell_type": "markdown",
   "id": "ceee43c4-7c00-4fa4-8770-995792b2e1b8",
   "metadata": {},
   "source": [
    "##### fl is state with highest number of sales"
   ]
  },
  {
   "cell_type": "code",
   "execution_count": 57,
   "id": "731334d1-a60f-4fcc-93f0-59f0eef0d152",
   "metadata": {},
   "outputs": [
    {
     "data": {
      "text/plain": [
       "state\n",
       "tn    17285.0\n",
       "co    15745.0\n",
       "nv    15576.0\n",
       "il    15404.0\n",
       "mi    15182.0\n",
       "Name: sellingprice, dtype: float64"
      ]
     },
     "execution_count": 57,
     "metadata": {},
     "output_type": "execute_result"
    }
   ],
   "source": [
    "Avg_state_sale= round(df.groupby('state')['sellingprice'].mean())\n",
    "sorted_avg_selling = Avg_state_sale.sort_values(ascending=False)\n",
    "sorted_avg_selling.head(5)\n"
   ]
  },
  {
   "cell_type": "markdown",
   "id": "ebe6dd59-d835-428a-b47d-25b4c04c2ff2",
   "metadata": {},
   "source": [
    "##### tn is the state with highest average selling price"
   ]
  },
  {
   "cell_type": "markdown",
   "id": "a46084ca-5e6f-4bc0-bda6-808aa339a940",
   "metadata": {},
   "source": [
    "### What is the average selling price of vehicles in the dataset based on models/brands?"
   ]
  },
  {
   "cell_type": "code",
   "execution_count": 110,
   "id": "1cc63421-07a2-4e93-a5e5-2f932b337940",
   "metadata": {},
   "outputs": [
    {
     "name": "stdout",
     "output_type": "stream",
     "text": [
      "make\n",
      "Acura             13104.780147\n",
      "Aston Martin      55500.000000\n",
      "Audi              20010.167638\n",
      "BMW               21292.665791\n",
      "Bentley           72713.333333\n",
      "Buick             10588.182103\n",
      "Cadillac          14733.198892\n",
      "Chevrolet         11866.210434\n",
      "Chrysler          10627.087887\n",
      "Daewoo              450.000000\n",
      "Dodge             10963.794342\n",
      "FIAT               9927.416552\n",
      "Ferrari          128852.941176\n",
      "Fisker            46461.111111\n",
      "Ford              14829.809413\n",
      "GMC               16769.467831\n",
      "Geo                 576.562500\n",
      "HUMMER            15404.606771\n",
      "Honda             10942.928453\n",
      "Hyundai           11062.017418\n",
      "Infiniti          20562.796303\n",
      "Isuzu              1774.162011\n",
      "Jaguar            19429.853620\n",
      "Jeep              14755.975736\n",
      "Kia               11767.492955\n",
      "Lamborghini      111500.000000\n",
      "Land Rover        33225.287443\n",
      "Lexus             20284.201652\n",
      "Lincoln           17547.191433\n",
      "Lotus             40800.000000\n",
      "MINI              12389.426341\n",
      "Maserati          43729.816514\n",
      "Mazda             10228.570418\n",
      "Mercedes-Benz     21314.872216\n",
      "Mercury            3996.944621\n",
      "Mitsubishi         8035.456979\n",
      "Nissan            11745.442885\n",
      "Oldsmobile          953.773585\n",
      "Plymouth          11845.312500\n",
      "Pontiac            3814.864609\n",
      "Porsche           38932.109767\n",
      "Ram               25257.458210\n",
      "Rolls-Royce      153456.250000\n",
      "Saab               3616.346154\n",
      "Saturn             3436.381323\n",
      "Scion              9736.213592\n",
      "Subaru            15583.418173\n",
      "Suzuki             4009.769703\n",
      "Tesla             67054.347826\n",
      "Toyota            12422.457197\n",
      "Volkswagen         9374.792022\n",
      "Volvo             10927.677482\n",
      "smart              6301.603499\n",
      "Name: sellingprice, dtype: float64\n"
     ]
    }
   ],
   "source": [
    "avg_selling =  df.groupby('make')['sellingprice'].mean()\n",
    "\n",
    "print(avg_selling)"
   ]
  },
  {
   "cell_type": "code",
   "execution_count": 62,
   "id": "857f144e-90fc-4822-a0fb-d25874d63a50",
   "metadata": {},
   "outputs": [
    {
     "data": {
      "text/plain": [
       "make\n",
       "Rolls-Royce    153456.0\n",
       "Name: sellingprice, dtype: float64"
      ]
     },
     "execution_count": 62,
     "metadata": {},
     "output_type": "execute_result"
    }
   ],
   "source": [
    "avg_selling = round( df.groupby('make')['sellingprice'].mean())\n",
    "sorted_avg_selling = avg_selling.sort_values(ascending=False)\n",
    "sorted_avg_selling.head(1)"
   ]
  },
  {
   "cell_type": "markdown",
   "id": "9e6dc333-09b6-4efc-89b6-12d5b89a8bac",
   "metadata": {},
   "source": [
    "#### Rolls-Royce was the vehicle with maximum average selling price"
   ]
  },
  {
   "cell_type": "code",
   "execution_count": 63,
   "id": "71522cfc-6385-44a8-99b0-24db9c8e61c0",
   "metadata": {},
   "outputs": [
    {
     "data": {
      "text/plain": [
       "make\n",
       "Daewoo    450.0\n",
       "Name: sellingprice, dtype: float64"
      ]
     },
     "execution_count": 63,
     "metadata": {},
     "output_type": "execute_result"
    }
   ],
   "source": [
    "avg_selling = df.groupby('make')['sellingprice'].mean()\n",
    "sorted_avg_selling = avg_selling.sort_values(ascending=True)\n",
    "sorted_avg_selling.head(1)"
   ]
  },
  {
   "cell_type": "markdown",
   "id": "51c67039-0b78-4dff-88e7-b7168a831efc",
   "metadata": {},
   "source": [
    "#### Daewoo was the vehicle with minimum average selling price"
   ]
  },
  {
   "cell_type": "markdown",
   "id": "b78361ef-4ce5-458f-8819-9037d6b04e15",
   "metadata": {},
   "source": [
    "## How does the odometer reading affect the selling price of vehicles?"
   ]
  },
  {
   "cell_type": "code",
   "execution_count": 144,
   "id": "1c003082-292a-4ff5-80fc-e63b0fbaefb3",
   "metadata": {},
   "outputs": [
    {
     "name": "stdout",
     "output_type": "stream",
     "text": [
      "-0.5773903879411035\n"
     ]
    }
   ],
   "source": [
    "correlation=df['odometer'].corr(df['sellingprice'])\n",
    "print(correlation)"
   ]
  },
  {
   "cell_type": "markdown",
   "id": "cce58773-30fc-4054-bf9c-bd62fd5511ca",
   "metadata": {},
   "source": [
    "##### This signifies that readign of odometer is negatively correlated with the selling price of the vehicle.\n",
    "##### i.e. As the odometer readign inc the selling price of vehicle dec. and vice-versa"
   ]
  },
  {
   "cell_type": "raw",
   "id": "3a3429b2-19a7-4578-9e81-06bade6879e9",
   "metadata": {},
   "source": []
  },
  {
   "cell_type": "markdown",
   "id": "9605c6e8-9af3-4c17-bb7d-4bb472362d0d",
   "metadata": {},
   "source": [
    "## How does the Manheim Market Report (MMR) value correlate with the actual selling price of vehicles?"
   ]
  },
  {
   "cell_type": "code",
   "execution_count": 148,
   "id": "914bd94a-2641-446a-ad9d-453f0b6cf4a2",
   "metadata": {},
   "outputs": [
    {
     "name": "stdout",
     "output_type": "stream",
     "text": [
      "0.9834933172249134\n"
     ]
    }
   ],
   "source": [
    "correlation=df['mmr'].corr(df['sellingprice'])\n",
    "print(correlation)"
   ]
  },
  {
   "cell_type": "markdown",
   "id": "772ed0a0-0637-4dcd-aa48-045e0e3c9228",
   "metadata": {},
   "source": [
    "##### This signifies that readign of odometer is positively correlated with the selling price of the vehicle.\n",
    "##### i.e. Inc in mmr increases  the selling price of vehicle"
   ]
  },
  {
   "cell_type": "code",
   "execution_count": 4,
   "id": "b676a7d3-f725-4e2b-bf51-65edc192f8fc",
   "metadata": {},
   "outputs": [
    {
     "data": {
      "text/html": [
       "<div>\n",
       "<style scoped>\n",
       "    .dataframe tbody tr th:only-of-type {\n",
       "        vertical-align: middle;\n",
       "    }\n",
       "\n",
       "    .dataframe tbody tr th {\n",
       "        vertical-align: top;\n",
       "    }\n",
       "\n",
       "    .dataframe thead th {\n",
       "        text-align: right;\n",
       "    }\n",
       "</style>\n",
       "<table border=\"1\" class=\"dataframe\">\n",
       "  <thead>\n",
       "    <tr style=\"text-align: right;\">\n",
       "      <th></th>\n",
       "      <th>year</th>\n",
       "      <th>make</th>\n",
       "      <th>model</th>\n",
       "      <th>body</th>\n",
       "      <th>transmission</th>\n",
       "      <th>state</th>\n",
       "      <th>odometer</th>\n",
       "      <th>color</th>\n",
       "      <th>interior</th>\n",
       "      <th>seller</th>\n",
       "      <th>mmr</th>\n",
       "      <th>sellingprice</th>\n",
       "      <th>selldate</th>\n",
       "    </tr>\n",
       "  </thead>\n",
       "  <tbody>\n",
       "    <tr>\n",
       "      <th>0</th>\n",
       "      <td>2014</td>\n",
       "      <td>BMW</td>\n",
       "      <td>6 Series</td>\n",
       "      <td>Convertible</td>\n",
       "      <td>automatic</td>\n",
       "      <td>ca</td>\n",
       "      <td>8819</td>\n",
       "      <td>black</td>\n",
       "      <td>black</td>\n",
       "      <td>the hertz corporation</td>\n",
       "      <td>68000</td>\n",
       "      <td>67200</td>\n",
       "      <td>2014</td>\n",
       "    </tr>\n",
       "    <tr>\n",
       "      <th>1</th>\n",
       "      <td>2014</td>\n",
       "      <td>Kia</td>\n",
       "      <td>Sorento</td>\n",
       "      <td>SUV</td>\n",
       "      <td>automatic</td>\n",
       "      <td>ca</td>\n",
       "      <td>9393</td>\n",
       "      <td>white</td>\n",
       "      <td>beige</td>\n",
       "      <td>kia motors america  inc</td>\n",
       "      <td>20800</td>\n",
       "      <td>30000</td>\n",
       "      <td>2014</td>\n",
       "    </tr>\n",
       "    <tr>\n",
       "      <th>2</th>\n",
       "      <td>2014</td>\n",
       "      <td>BMW</td>\n",
       "      <td>3 Series</td>\n",
       "      <td>Sedan</td>\n",
       "      <td>automatic</td>\n",
       "      <td>ca</td>\n",
       "      <td>1331</td>\n",
       "      <td>gray</td>\n",
       "      <td>black</td>\n",
       "      <td>financial services remarketing (lease)</td>\n",
       "      <td>31900</td>\n",
       "      <td>30000</td>\n",
       "      <td>2015</td>\n",
       "    </tr>\n",
       "    <tr>\n",
       "      <th>3</th>\n",
       "      <td>2015</td>\n",
       "      <td>Volvo</td>\n",
       "      <td>S60</td>\n",
       "      <td>Sedan</td>\n",
       "      <td>automatic</td>\n",
       "      <td>ca</td>\n",
       "      <td>14282</td>\n",
       "      <td>white</td>\n",
       "      <td>black</td>\n",
       "      <td>volvo na rep/world omni</td>\n",
       "      <td>27500</td>\n",
       "      <td>27750</td>\n",
       "      <td>2015</td>\n",
       "    </tr>\n",
       "    <tr>\n",
       "      <th>4</th>\n",
       "      <td>2014</td>\n",
       "      <td>BMW</td>\n",
       "      <td>6 Series Gran Coupe</td>\n",
       "      <td>Sedan</td>\n",
       "      <td>automatic</td>\n",
       "      <td>ca</td>\n",
       "      <td>2641</td>\n",
       "      <td>gray</td>\n",
       "      <td>black</td>\n",
       "      <td>financial services remarketing (lease)</td>\n",
       "      <td>66000</td>\n",
       "      <td>67000</td>\n",
       "      <td>2014</td>\n",
       "    </tr>\n",
       "  </tbody>\n",
       "</table>\n",
       "</div>"
      ],
      "text/plain": [
       "   year   make                model         body transmission state  odometer  \\\n",
       "0  2014    BMW             6 Series  Convertible    automatic    ca      8819   \n",
       "1  2014    Kia              Sorento          SUV    automatic    ca      9393   \n",
       "2  2014    BMW             3 Series        Sedan    automatic    ca      1331   \n",
       "3  2015  Volvo                  S60        Sedan    automatic    ca     14282   \n",
       "4  2014    BMW  6 Series Gran Coupe        Sedan    automatic    ca      2641   \n",
       "\n",
       "   color interior                                  seller    mmr  \\\n",
       "0  black    black                   the hertz corporation  68000   \n",
       "1  white    beige                 kia motors america  inc  20800   \n",
       "2   gray    black  financial services remarketing (lease)  31900   \n",
       "3  white    black                 volvo na rep/world omni  27500   \n",
       "4   gray    black  financial services remarketing (lease)  66000   \n",
       "\n",
       "   sellingprice  selldate  \n",
       "0         67200      2014  \n",
       "1         30000      2014  \n",
       "2         30000      2015  \n",
       "3         27750      2015  \n",
       "4         67000      2014  "
      ]
     },
     "execution_count": 4,
     "metadata": {},
     "output_type": "execute_result"
    }
   ],
   "source": [
    "df.head()"
   ]
  },
  {
   "cell_type": "code",
   "execution_count": 80,
   "id": "41ca6f8e-5221-4bf0-aeab-9337407a2efb",
   "metadata": {},
   "outputs": [
    {
     "data": {
      "text/plain": [
       "(array([1., 0., 0., 2., 0., 0., 3., 0., 0., 4.]),\n",
       " array([1. , 1.3, 1.6, 1.9, 2.2, 2.5, 2.8, 3.1, 3.4, 3.7, 4. ]),\n",
       " <BarContainer object of 10 artists>)"
      ]
     },
     "execution_count": 80,
     "metadata": {},
     "output_type": "execute_result"
    },
    {
     "data": {
      "image/png": "[encoded data removed]",
      "text/plain": [
       "<Figure size 640x480 with 4 Axes>"
      ]
     },
     "metadata": {},
     "output_type": "display_data"
    }
   ],
   "source": [
    "fig = plt.figure()\n",
    "ax1 = fig.add_subplot(2, 2, 1)  # Select first subplot\n",
    "\n",
    "ax2 = fig.add_subplot(2, 2, 2)  # Select second subplot\n",
    "ax3 = fig.add_subplot(2, 2, 3)  # Select third subplot\n",
    "ax4 = fig.add_subplot(2, 2, 4)  # Select fourth subplot\n",
    "\n",
    "# Now you can plot on each individual subplot\n",
    "ax1.plot([1, 2, 3], [4, 5, 6],linestyle=':',marker='x')\n",
    "ax1.set_title(\"llm\")\n",
    "ax1.set_xlabel('X-axis label',fontsize=8,color='red')\n",
    "ax1.set_ylabel('Y-axis label',fontsize=8,color='red')\n",
    "ax1.grid(True)\n",
    "\n",
    "ax2.scatter([1, 2, 3], [4, 5, 6])\n",
    "ax3.bar([1, 2, 3], [4, 5, 6])\n",
    "ax4.hist([1, 2, 2, 3, 3, 3, 4, 4, 4, 4])\n"
   ]
  },
  {
   "cell_type": "code",
   "execution_count": 81,
   "id": "decde459-4835-4a1d-9e03-e7848fb7761c",
   "metadata": {},
   "outputs": [
    {
     "data": {
      "text/html": [
       "<div>\n",
       "<style scoped>\n",
       "    .dataframe tbody tr th:only-of-type {\n",
       "        vertical-align: middle;\n",
       "    }\n",
       "\n",
       "    .dataframe tbody tr th {\n",
       "        vertical-align: top;\n",
       "    }\n",
       "\n",
       "    .dataframe thead th {\n",
       "        text-align: right;\n",
       "    }\n",
       "</style>\n",
       "<table border=\"1\" class=\"dataframe\">\n",
       "  <thead>\n",
       "    <tr style=\"text-align: right;\">\n",
       "      <th></th>\n",
       "      <th>year</th>\n",
       "      <th>make</th>\n",
       "      <th>model</th>\n",
       "      <th>body</th>\n",
       "      <th>transmission</th>\n",
       "      <th>state</th>\n",
       "      <th>odometer</th>\n",
       "      <th>color</th>\n",
       "      <th>interior</th>\n",
       "      <th>seller</th>\n",
       "      <th>mmr</th>\n",
       "      <th>sellingprice</th>\n",
       "      <th>selldate</th>\n",
       "    </tr>\n",
       "  </thead>\n",
       "  <tbody>\n",
       "    <tr>\n",
       "      <th>0</th>\n",
       "      <td>2014</td>\n",
       "      <td>BMW</td>\n",
       "      <td>6 Series</td>\n",
       "      <td>Convertible</td>\n",
       "      <td>automatic</td>\n",
       "      <td>ca</td>\n",
       "      <td>8819</td>\n",
       "      <td>black</td>\n",
       "      <td>black</td>\n",
       "      <td>the hertz corporation</td>\n",
       "      <td>68000</td>\n",
       "      <td>67200</td>\n",
       "      <td>2014</td>\n",
       "    </tr>\n",
       "    <tr>\n",
       "      <th>1</th>\n",
       "      <td>2014</td>\n",
       "      <td>Kia</td>\n",
       "      <td>Sorento</td>\n",
       "      <td>SUV</td>\n",
       "      <td>automatic</td>\n",
       "      <td>ca</td>\n",
       "      <td>9393</td>\n",
       "      <td>white</td>\n",
       "      <td>beige</td>\n",
       "      <td>kia motors america  inc</td>\n",
       "      <td>20800</td>\n",
       "      <td>30000</td>\n",
       "      <td>2014</td>\n",
       "    </tr>\n",
       "    <tr>\n",
       "      <th>2</th>\n",
       "      <td>2014</td>\n",
       "      <td>BMW</td>\n",
       "      <td>3 Series</td>\n",
       "      <td>Sedan</td>\n",
       "      <td>automatic</td>\n",
       "      <td>ca</td>\n",
       "      <td>1331</td>\n",
       "      <td>gray</td>\n",
       "      <td>black</td>\n",
       "      <td>financial services remarketing (lease)</td>\n",
       "      <td>31900</td>\n",
       "      <td>30000</td>\n",
       "      <td>2015</td>\n",
       "    </tr>\n",
       "    <tr>\n",
       "      <th>3</th>\n",
       "      <td>2015</td>\n",
       "      <td>Volvo</td>\n",
       "      <td>S60</td>\n",
       "      <td>Sedan</td>\n",
       "      <td>automatic</td>\n",
       "      <td>ca</td>\n",
       "      <td>14282</td>\n",
       "      <td>white</td>\n",
       "      <td>black</td>\n",
       "      <td>volvo na rep/world omni</td>\n",
       "      <td>27500</td>\n",
       "      <td>27750</td>\n",
       "      <td>2015</td>\n",
       "    </tr>\n",
       "  </tbody>\n",
       "</table>\n",
       "</div>"
      ],
      "text/plain": [
       "   year   make     model         body transmission state  odometer  color  \\\n",
       "0  2014    BMW  6 Series  Convertible    automatic    ca      8819  black   \n",
       "1  2014    Kia   Sorento          SUV    automatic    ca      9393  white   \n",
       "2  2014    BMW  3 Series        Sedan    automatic    ca      1331   gray   \n",
       "3  2015  Volvo       S60        Sedan    automatic    ca     14282  white   \n",
       "\n",
       "  interior                                  seller    mmr  sellingprice  \\\n",
       "0    black                   the hertz corporation  68000         67200   \n",
       "1    beige                 kia motors america  inc  20800         30000   \n",
       "2    black  financial services remarketing (lease)  31900         30000   \n",
       "3    black                 volvo na rep/world omni  27500         27750   \n",
       "\n",
       "   selldate  \n",
       "0      2014  \n",
       "1      2014  \n",
       "2      2015  \n",
       "3      2015  "
      ]
     },
     "execution_count": 81,
     "metadata": {},
     "output_type": "execute_result"
    }
   ],
   "source": [
    "df.head(4)"
   ]
  }
 ],
 "metadata": {
  "kernelspec": {
   "display_name": "Python 3 (ipykernel)",
   "language": "python",
   "name": "python3"
  },
  "language_info": {
   "codemirror_mode": {
    "name": "ipython",
    "version": 3
   },
   "file_extension": ".py",
   "mimetype": "text/x-python",
   "name": "python",
   "nbconvert_exporter": "python",
   "pygments_lexer": "ipython3",
   "version": "3.11.8"
  }
 },
 "nbformat": 4,
 "nbformat_minor": 5
}
